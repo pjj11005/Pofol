{
 "cells": [
  {
   "cell_type": "markdown",
   "metadata": {},
   "source": [
    "# 앙상블 모델"
   ]
  },
  {
   "cell_type": "code",
   "execution_count": 6,
   "metadata": {},
   "outputs": [
    {
     "name": "stdout",
     "output_type": "stream",
     "text": [
      "최적 하이퍼 파라미터: {'max_depth': 5, 'min_samples_leaf': 8, 'min_samples_split': 16, 'n_estimators': 200}\n",
      "최적 예측 정확도: 0.9680\n"
     ]
    }
   ],
   "source": [
    "from sklearn.ensemble import RandomForestRegressor\n",
    "from sklearn.model_selection import cross_val_score\n",
    "import pandas as pd\n",
    "import numpy as np\n",
    "from sklearn.model_selection import GridSearchCV\n",
    "from sklearn.model_selection import train_test_split\n",
    "from sklearn.metrics import mean_squared_error\n",
    "import math\n",
    "\n",
    "#데이터 불러오기 및 불필요한 변수제거\n",
    "accident = pd.read_csv(\"전처리 최종.csv\",encoding='cp949') \n",
    "accident=accident.drop([\"기간\",\"지역\"],axis=1,inplace=False)\n",
    "\n",
    "#GRIDSEARCH를 이용한 최적화\n",
    "featureColums = list(accident.columns.difference([\"발생건수\"]))\n",
    " \n",
    "x = accident[featureColums]\n",
    "y = accident.발생건수\n",
    " \n",
    "trainX ,testX , trainY , testY = train_test_split(x,y,test_size=0.3,random_state=0)\n",
    "\n",
    "params = {\n",
    "    'n_estimators':(100, 200),\n",
    "    'max_depth' : (5, 8),\n",
    "    'min_samples_leaf' : (8, 18),\n",
    "    'min_samples_split' : (8, 16)\n",
    "}\n",
    "rf_run = RandomForestRegressor(random_state=0, n_jobs=-1)\n",
    "grid_cv = GridSearchCV(rf_run, param_grid=params, cv=2, n_jobs=-1)\n",
    "grid_cv.fit(trainX, trainY)\n",
    " \n",
    "print('최적 하이퍼 파라미터:', grid_cv.best_params_)\n",
    "print('최적 예측 정확도: {0:.4f}'.format(grid_cv.best_score_))"
   ]
  },
  {
   "cell_type": "code",
   "execution_count": 7,
   "metadata": {},
   "outputs": [
    {
     "data": {
      "text/plain": [
       "RandomForestRegressor(max_depth=5, min_samples_leaf=8, min_samples_split=8,\n",
       "                      n_estimators=200, random_state=0)"
      ]
     },
     "execution_count": 7,
     "metadata": {},
     "output_type": "execute_result"
    }
   ],
   "source": [
    "# 랜덤포레스트 모델 학습\n",
    "rf_run = RandomForestRegressor(random_state=0, max_depth=5, min_samples_leaf=8, min_samples_split=8,n_estimators=200)\n",
    "rf_run.fit(trainX, trainY)"
   ]
  },
  {
   "cell_type": "code",
   "execution_count": 8,
   "metadata": {},
   "outputs": [
    {
     "name": "stdout",
     "output_type": "stream",
     "text": [
      "RMSE':41.677143247935405\n",
      "RMSE':58.129075518912195\n"
     ]
    }
   ],
   "source": [
    "# train rmse\n",
    "train_predict = rf_run.predict(trainX)\n",
    "print(\"RMSE':{}\".format(math.sqrt(mean_squared_error(train_predict, trainY))) )\n",
    " \n",
    "# test rmse\n",
    "test_predict = rf_run.predict(testX)\n",
    "print(\"RMSE':{}\".format(math.sqrt(mean_squared_error(test_predict, testY))) )"
   ]
  },
  {
   "cell_type": "code",
   "execution_count": 9,
   "metadata": {
    "scrolled": true
   },
   "outputs": [
    {
     "data": {
      "image/png": "[encoded data removed]",
      "text/plain": [
       "<Figure size 576x432 with 1 Axes>"
      ]
     },
     "metadata": {
      "needs_background": "light"
     },
     "output_type": "display_data"
    }
   ],
   "source": [
    "# 모델 변수 중요도 시각화\n",
    "import matplotlib.pyplot as plt \n",
    "import seaborn as sns\n",
    "%matplotlib inline\n",
    "plt.rcParams['axes.unicode_minus'] = False\n",
    "plt.rcParams['font.family'] = 'NanumGothic'\n",
    "\n",
    "ftr_importances_values = rf_run.feature_importances_\n",
    "ftr_importances = pd.Series(ftr_importances_values, index=trainX.columns)\n",
    "ftr_top = ftr_importances.sort_values(ascending=False)[:20]\n",
    " \n",
    "plt.figure(figsize=(8, 6))\n",
    "sns.barplot(x=ftr_top, y=ftr_top.index)\n",
    "plt.show()"
   ]
  }
 ],
 "metadata": {
  "kernelspec": {
   "display_name": "Python 3",
   "language": "python",
   "name": "python3"
  },
  "language_info": {
   "codemirror_mode": {
    "name": "ipython",
    "version": 3
   },
   "file_extension": ".py",
   "mimetype": "text/x-python",
   "name": "python",
   "nbconvert_exporter": "python",
   "pygments_lexer": "ipython3",
   "version": "3.8.5"
  }
 },
 "nbformat": 4,
 "nbformat_minor": 4
}
